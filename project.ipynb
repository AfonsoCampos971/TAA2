{
 "cells": [
  {
   "cell_type": "markdown",
   "metadata": {},
   "source": [
    "# TAA PROJECT"
   ]
  },
  {
   "cell_type": "markdown",
   "metadata": {},
   "source": [
    "## Imports"
   ]
  },
  {
   "cell_type": "code",
   "execution_count": 21,
   "metadata": {},
   "outputs": [],
   "source": [
    "import warnings\n",
    "warnings.filterwarnings('ignore',category=FutureWarning)\n",
    "warnings.filterwarnings('ignore',category=DeprecationWarning)\n",
    "\n",
    "# Import relevant libraries\n",
    "import os\n",
    "import numpy as np\n",
    "from keras import layers\n",
    "from keras.layers import Input, Dense, Activation, ZeroPadding2D, BatchNormalization, Flatten, Conv2D\n",
    "from keras.layers import AveragePooling2D, MaxPooling2D, Dropout, GlobalMaxPooling2D, GlobalAveragePooling2D\n",
    "from keras.models import Model\n",
    "from keras.preprocessing import image\n",
    "from keras.utils import layer_utils\n",
    "from keras.utils.data_utils import get_file\n",
    "from keras.applications.imagenet_utils import preprocess_input\n",
    "import pydot\n",
    "from IPython.display import SVG\n",
    "from keras.utils.vis_utils import model_to_dot\n",
    "from keras.utils import plot_model\n",
    "from PIL import Image\n",
    "import scipy.misc\n",
    "\n",
    "import pandas as pd\n",
    "\n",
    "import keras.backend as K\n",
    "K.set_image_data_format('channels_last')\n",
    "import matplotlib.pyplot as plt\n",
    "from matplotlib.pyplot import imshow"
   ]
  },
  {
   "cell_type": "markdown",
   "metadata": {},
   "source": [
    "## Load and Process Data"
   ]
  },
  {
   "cell_type": "code",
   "execution_count": 34,
   "metadata": {},
   "outputs": [
    {
     "name": "stdout",
     "output_type": "stream",
     "text": [
      "<bound method NDFrame.head of                id      class\n",
      "0    ISIC_0000000     benign\n",
      "1    ISIC_0000001     benign\n",
      "2    ISIC_0000002  malignant\n",
      "3    ISIC_0000004  malignant\n",
      "4    ISIC_0000006     benign\n",
      "..            ...        ...\n",
      "895  ISIC_0011393     benign\n",
      "896  ISIC_0011397     benign\n",
      "897  ISIC_0011398     benign\n",
      "898  ISIC_0011400     benign\n",
      "899  ISIC_0011402     benign\n",
      "\n",
      "[900 rows x 2 columns]> (900, 2)\n",
      "ISIC_0000002 malignant\n",
      "(900, 224, 224, 3)\n",
      "(900,)\n"
     ]
    }
   ],
   "source": [
    "c = 0\n",
    "X_train_orig = []\n",
    "y_train_orig = []\n",
    "path = \"data/training_data/\"\n",
    "\n",
    "tmp = pd.read_csv(\"data/ISBI2016_ISIC_Part3_Training_GroundTruth.csv\", header=None, names=['id', 'class'])\n",
    "print(tmp.head, tmp.shape)\n",
    "print(tmp['id'][2], tmp['class'][2])\n",
    "training_thruth = { tmp['id'][i]: tmp['class'][i] for i in range(tmp.shape[0])}\n",
    "#print(training_thruth)\n",
    "for filename in os.listdir(path):\n",
    "\n",
    "    y_train_orig.append(training_thruth[filename.rstrip('.jpg')])\n",
    "\n",
    "    image = Image.open(path + filename)\n",
    "    data =  np.asarray(image)\n",
    "    #plt.figure(c)\n",
    "    #imshow(data)\n",
    "    data = image.resize((224,224), Image.BICUBIC)\n",
    "    #print(data.size)\n",
    "    data =  np.asarray(data)\n",
    "    #plt.figure(c+100)\n",
    "    #plt.imshow(data)\n",
    "    #print(data.shape)\n",
    "    X_train_orig.append(data) \n",
    "    #if c > 10:\n",
    "    #    break\n",
    "    c += 1\n",
    "\n",
    "X_train_orig = np.array(X_train_orig)  \n",
    "y_train_orig = np.array(y_train_orig)\n",
    "print(X_train_orig.shape)\n",
    "print(y_train_orig.shape)\n"
   ]
  }
 ],
 "metadata": {
  "interpreter": {
   "hash": "688facd3c8c2c06ed3d555928b3a1faf5c3e87b2b60907918d156c669ff76b9b"
  },
  "kernelspec": {
   "display_name": "Python 3.9.7 ('base')",
   "language": "python",
   "name": "python3"
  },
  "language_info": {
   "codemirror_mode": {
    "name": "ipython",
    "version": 3
   },
   "file_extension": ".py",
   "mimetype": "text/x-python",
   "name": "python",
   "nbconvert_exporter": "python",
   "pygments_lexer": "ipython3",
   "version": "3.9.7"
  },
  "orig_nbformat": 4
 },
 "nbformat": 4,
 "nbformat_minor": 2
}
